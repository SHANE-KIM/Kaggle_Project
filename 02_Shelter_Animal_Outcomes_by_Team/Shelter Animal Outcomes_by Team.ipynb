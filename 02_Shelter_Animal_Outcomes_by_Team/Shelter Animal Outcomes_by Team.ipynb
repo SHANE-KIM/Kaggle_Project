{
 "cells": [
  {
   "cell_type": "markdown",
   "metadata": {},
   "source": [
    "# Classification Project \n",
    "## - Shelter Animal Outcomes - Help improve outcomes for shelter animals"
   ]
  },
  {
   "cell_type": "markdown",
   "metadata": {},
   "source": [
    "-------------------------------"
   ]
  },
  {
   "cell_type": "markdown",
   "metadata": {},
   "source": [
    "#### 팀이름 : 다롱이초롱이"
   ]
  },
  {
   "cell_type": "markdown",
   "metadata": {},
   "source": [
    "-------------------------------------"
   ]
  },
  {
   "cell_type": "markdown",
   "metadata": {},
   "source": [
    "##  [ 목차 ]\n",
    "   ### 1. 분석의 개요 및 목적\n",
    "   ### 2. 데이터 set 분석\n",
    "   ### 3. EDA\n",
    "   ### 4. 데이터 전처리 및 모델링\n",
    "   ### 5. 최종 모델"
   ]
  },
  {
   "cell_type": "markdown",
   "metadata": {},
   "source": [
    "-------------------------------------"
   ]
  },
  {
   "cell_type": "markdown",
   "metadata": {},
   "source": [
    "### 1. 분석의 개요 및 목적 : "
   ]
  },
  {
   "cell_type": "markdown",
   "metadata": {},
   "source": [
    "- 미국에서 매년 7.6 million의 애완동물이 동물 보호소에 맡겨지고 있음, 이 중 2.7 million의 애완동물이 안락사됨\n",
    "- 보호소에 맡겨진 동물 중 Adoption될 동물을 예측하는데 focus를 맞추고자함\n"
   ]
  },
  {
   "cell_type": "markdown",
   "metadata": {},
   "source": [
    "### 2. 데이터 셋 분석"
   ]
  },
  {
   "cell_type": "markdown",
   "metadata": {},
   "source": [
    "- Texas의 대형 동물 보호소인 Austin Animal Center에서 제공한 data set\n",
    "- 2013년 10월 1일부터 2016년 3월까지의 data"
   ]
  },
  {
   "cell_type": "markdown",
   "metadata": {
    "collapsed": true
   },
   "source": [
    "### 1. Train set : 26729 rows\n",
    "\n",
    "(1) Train set x value\n",
    "1. AnimalID : sequence id\n",
    "2. Name : pet's name\n",
    "3. DateTime : outcome이 발생한 시간,  YYYY-MM-DD HH:MM:SS\n",
    "4. AnimalType : dog or cat 카테고리 2개\n",
    "5. SexuponOutcome : 카테고리 5개\n",
    " - Intact Female - 암컷\n",
    " - Intact Male - 수컷\n",
    " - Neutered Male - 중성화된 수컷\n",
    " - Spayed Femail - 중성화된 암컷\n",
    " - Unknown - 성별 알수 없음\n",
    "6. AgeuponOutcome : 1day ~ 20 year (day, week, month, year) 카테고리 44개\n",
    "7. Breed : 카테고리 1380개\n",
    "8. Color : 카테고리 366개\n",
    "9. OutcomeSubtype : OutcomeType에 대한 부가설명\n",
    "\n",
    "(2) Train set y value (5개 클래스)\n",
    "1. OutcomeType : Adoption(입양),Died(죽음), Euthanasia(안락사) ,Return_to_owner(집주인에게 돌아감),Transfer(다른 센터로 이송)"
   ]
  },
  {
   "cell_type": "markdown",
   "metadata": {},
   "source": [
    "### 2. Test  data set : 11456 rows\n",
    "\n",
    "(1) Test set x value\n",
    "1. ID : sequence id\n",
    "2. Name : pet's name\n",
    "3. DateTime : outcome이 발생한 시간,  YYYY-MM-DD HH:MM:SS\n",
    "4. AnimalTyp : dog or cat 카테고리 2개\n",
    "5. SexuponOutcome : 1day ~ 21 year (day, week, month, year), 카테고리 5개\n",
    " - Intact Female - 수컷\n",
    " - Intact Male - 암컷\n",
    " - Neutered Male - 중성화된 수컷\n",
    " - Spayed Femail - 중성화된 암컷\n",
    " - Unknown - 성별 알수 없음\n",
    "6. AgeuponOutcome : 카테고리 45개\n",
    "7. Breed : 카테고리 913개\n",
    "8. Color : 카테고리 277개\n",
    "\n",
    "(2) Train set y value (5개 클래스)\n",
    "1. OutcomeType : Adoption(입양),Died(죽음), Euthanasia(안락사) ,Return_to_owner(집주인에게 돌아감),Transfer(다른 센터로 이송)"
   ]
  },
  {
   "cell_type": "code",
   "execution_count": 3,
   "metadata": {},
   "outputs": [
    {
     "name": "stderr",
     "output_type": "stream",
     "text": [
      "C:\\Users\\itfev\\Anaconda3\\lib\\site-packages\\statsmodels\\compat\\pandas.py:56: FutureWarning: The pandas.core.datetools module is deprecated and will be removed in a future version. Please use the pandas.tseries module instead.\n",
      "  from pandas.core import datetools\n",
      "C:\\Users\\itfev\\Anaconda3\\lib\\site-packages\\sklearn\\cross_validation.py:41: DeprecationWarning: This module was deprecated in version 0.18 in favor of the model_selection module into which all the refactored classes and functions are moved. Also note that the interface of the new CV iterators are different from that of this module. This module will be removed in 0.20.\n",
      "  \"This module will be removed in 0.20.\", DeprecationWarning)\n"
     ]
    }
   ],
   "source": [
    "import pandas as pd\n",
    "import scipy as sp\n",
    "import matplotlib.pyplot as plt\n",
    "import seaborn as sns\n",
    "import numpy as np\n",
    "import statsmodels.api as sm\n",
    "import statsmodels.stats.api as sms\n",
    "import numpy as np\n",
    "import pandas as pd\n",
    "import xgboost\n",
    "\n",
    "from matplotlib              import style\n",
    "from patsy                   import dmatrix\n",
    "from sklearn.linear_model    import LinearRegression\n",
    "from sklearn.datasets        import make_regression\n",
    "from sklearn.linear_model    import LogisticRegression\n",
    "from sklearn.preprocessing   import LabelEncoder\n",
    "from sklearn.svm             import SVC\n",
    "from sklearn.metrics         import log_loss,accuracy_score\n",
    "from sklearn.metrics         import roc_curve, auc\n",
    "from sklearn.metrics         import confusion_matrix\n",
    "from sklearn.metrics         import *\n",
    "from sklearn.ensemble        import RandomForestClassifier\n",
    "from sklearn.model_selection import KFold\n",
    "from sklearn.model_selection import cross_val_score\n",
    "from sklearn.model_selection import GridSearchCV"
   ]
  },
  {
   "cell_type": "markdown",
   "metadata": {},
   "source": [
    "* Data Load from csv"
   ]
  },
  {
   "cell_type": "code",
   "execution_count": 4,
   "metadata": {},
   "outputs": [
    {
     "data": {
      "text/html": [
       "<div>\n",
       "<style>\n",
       "    .dataframe thead tr:only-child th {\n",
       "        text-align: right;\n",
       "    }\n",
       "\n",
       "    .dataframe thead th {\n",
       "        text-align: left;\n",
       "    }\n",
       "\n",
       "    .dataframe tbody tr th {\n",
       "        vertical-align: top;\n",
       "    }\n",
       "</style>\n",
       "<table border=\"1\" class=\"dataframe\">\n",
       "  <thead>\n",
       "    <tr style=\"text-align: right;\">\n",
       "      <th></th>\n",
       "      <th>AnimalID</th>\n",
       "      <th>Name</th>\n",
       "      <th>DateTime</th>\n",
       "      <th>OutcomeType</th>\n",
       "      <th>OutcomeSubtype</th>\n",
       "      <th>AnimalType</th>\n",
       "      <th>SexuponOutcome</th>\n",
       "      <th>AgeuponOutcome</th>\n",
       "      <th>Breed</th>\n",
       "      <th>Color</th>\n",
       "    </tr>\n",
       "  </thead>\n",
       "  <tbody>\n",
       "    <tr>\n",
       "      <th>26724</th>\n",
       "      <td>A702446</td>\n",
       "      <td>NaN</td>\n",
       "      <td>2015-05-14 11:56:00</td>\n",
       "      <td>Transfer</td>\n",
       "      <td>Partner</td>\n",
       "      <td>Cat</td>\n",
       "      <td>Intact Male</td>\n",
       "      <td>1 month</td>\n",
       "      <td>Domestic Shorthair Mix</td>\n",
       "      <td>Brown Tabby/White</td>\n",
       "    </tr>\n",
       "    <tr>\n",
       "      <th>26725</th>\n",
       "      <td>A718934</td>\n",
       "      <td>NaN</td>\n",
       "      <td>2016-01-20 18:59:00</td>\n",
       "      <td>Transfer</td>\n",
       "      <td>SCRP</td>\n",
       "      <td>Cat</td>\n",
       "      <td>Spayed Female</td>\n",
       "      <td>3 months</td>\n",
       "      <td>Domestic Shorthair Mix</td>\n",
       "      <td>Brown Tabby</td>\n",
       "    </tr>\n",
       "    <tr>\n",
       "      <th>26726</th>\n",
       "      <td>A698128</td>\n",
       "      <td>Zeus</td>\n",
       "      <td>2015-03-09 13:33:00</td>\n",
       "      <td>Adoption</td>\n",
       "      <td>NaN</td>\n",
       "      <td>Dog</td>\n",
       "      <td>Neutered Male</td>\n",
       "      <td>4 years</td>\n",
       "      <td>Old English Bulldog Mix</td>\n",
       "      <td>White/Tan</td>\n",
       "    </tr>\n",
       "    <tr>\n",
       "      <th>26727</th>\n",
       "      <td>A677478</td>\n",
       "      <td>NaN</td>\n",
       "      <td>2014-04-27 12:22:00</td>\n",
       "      <td>Transfer</td>\n",
       "      <td>Partner</td>\n",
       "      <td>Cat</td>\n",
       "      <td>Intact Male</td>\n",
       "      <td>4 weeks</td>\n",
       "      <td>Domestic Shorthair Mix</td>\n",
       "      <td>Black</td>\n",
       "    </tr>\n",
       "    <tr>\n",
       "      <th>26728</th>\n",
       "      <td>A706629</td>\n",
       "      <td>NaN</td>\n",
       "      <td>2015-07-02 09:00:00</td>\n",
       "      <td>Transfer</td>\n",
       "      <td>SCRP</td>\n",
       "      <td>Cat</td>\n",
       "      <td>Intact Male</td>\n",
       "      <td>1 year</td>\n",
       "      <td>Domestic Shorthair Mix</td>\n",
       "      <td>Brown Tabby/White</td>\n",
       "    </tr>\n",
       "  </tbody>\n",
       "</table>\n",
       "</div>"
      ],
      "text/plain": [
       "      AnimalID  Name             DateTime OutcomeType OutcomeSubtype  \\\n",
       "26724  A702446   NaN  2015-05-14 11:56:00    Transfer        Partner   \n",
       "26725  A718934   NaN  2016-01-20 18:59:00    Transfer           SCRP   \n",
       "26726  A698128  Zeus  2015-03-09 13:33:00    Adoption            NaN   \n",
       "26727  A677478   NaN  2014-04-27 12:22:00    Transfer        Partner   \n",
       "26728  A706629   NaN  2015-07-02 09:00:00    Transfer           SCRP   \n",
       "\n",
       "      AnimalType SexuponOutcome AgeuponOutcome                    Breed  \\\n",
       "26724        Cat    Intact Male        1 month   Domestic Shorthair Mix   \n",
       "26725        Cat  Spayed Female       3 months   Domestic Shorthair Mix   \n",
       "26726        Dog  Neutered Male        4 years  Old English Bulldog Mix   \n",
       "26727        Cat    Intact Male        4 weeks   Domestic Shorthair Mix   \n",
       "26728        Cat    Intact Male         1 year   Domestic Shorthair Mix   \n",
       "\n",
       "                   Color  \n",
       "26724  Brown Tabby/White  \n",
       "26725        Brown Tabby  \n",
       "26726          White/Tan  \n",
       "26727              Black  \n",
       "26728  Brown Tabby/White  "
      ]
     },
     "execution_count": 4,
     "metadata": {},
     "output_type": "execute_result"
    }
   ],
   "source": [
    "df_train = pd.read_csv('data/train.csv')\n",
    "df_test  = pd.read_csv('data/test.csv')\n",
    "\n",
    "df_train.tail()"
   ]
  },
  {
   "cell_type": "markdown",
   "metadata": {},
   "source": [
    "* 결측치 확인"
   ]
  },
  {
   "cell_type": "markdown",
   "metadata": {},
   "source": [
    "#### train set\n",
    "* name : 비어있는 값 있음(7691)\n",
    "* OutcomeSubtype : 비어있는 값 있음 (13612)\n",
    "* SexuponOutcome : 비어있는 값 있음 (1)\n",
    "* AgeuponOutcome : 18 row null"
   ]
  },
  {
   "cell_type": "code",
   "execution_count": 5,
   "metadata": {},
   "outputs": [
    {
     "data": {
      "text/plain": [
       "AnimalID              0\n",
       "Name               7691\n",
       "DateTime              0\n",
       "OutcomeType           0\n",
       "OutcomeSubtype    13612\n",
       "AnimalType            0\n",
       "SexuponOutcome        1\n",
       "AgeuponOutcome       18\n",
       "Breed                 0\n",
       "Color                 0\n",
       "dtype: int64"
      ]
     },
     "execution_count": 5,
     "metadata": {},
     "output_type": "execute_result"
    }
   ],
   "source": [
    "df_train.isnull().sum()"
   ]
  },
  {
   "cell_type": "markdown",
   "metadata": {},
   "source": [
    "#### test set\n",
    "* Name           : 비어있는 값 있음 (3225)\n",
    "* AgeuponOutcome : 비어있는 값 있음 (6)"
   ]
  },
  {
   "cell_type": "code",
   "execution_count": 6,
   "metadata": {
    "scrolled": false
   },
   "outputs": [
    {
     "data": {
      "text/plain": [
       "ID                   0\n",
       "Name              3225\n",
       "DateTime             0\n",
       "AnimalType           0\n",
       "SexuponOutcome       0\n",
       "AgeuponOutcome       6\n",
       "Breed                0\n",
       "Color                0\n",
       "dtype: int64"
      ]
     },
     "execution_count": 6,
     "metadata": {},
     "output_type": "execute_result"
    }
   ],
   "source": [
    "df_test.isnull().sum()"
   ]
  },
  {
   "cell_type": "markdown",
   "metadata": {},
   "source": [
    "#### 변수 제외:\n",
    "* AnimalID - 식별id로 제외\n",
    "* DateTime - Outcome이 발생한 시간을 기록하여 제외\n",
    "* OutcomeSubtype - test set에 없는 칼럼이라 제외"
   ]
  },
  {
   "cell_type": "markdown",
   "metadata": {},
   "source": [
    "### 3. EDA 분석"
   ]
  },
  {
   "cell_type": "markdown",
   "metadata": {},
   "source": [
    "#### (1) OutcomeType"
   ]
  },
  {
   "cell_type": "code",
   "execution_count": 127,
   "metadata": {},
   "outputs": [
    {
     "name": "stdout",
     "output_type": "stream",
     "text": [
      "OutcomeType\n",
      "Adoption           10769\n",
      "Died                 197\n",
      "Euthanasia          1555\n",
      "Return_to_owner     4786\n",
      "Transfer            9422\n",
      "Name: AnimalID, dtype: int64\n"
     ]
    },
    {
     "data": {
      "image/png": "[encoded data removed]",
      "text/plain": [
       "<matplotlib.figure.Figure at 0x283bc00d4a8>"
      ]
     },
     "metadata": {},
     "output_type": "display_data"
    }
   ],
   "source": [
    "print(df_train.groupby(\"OutcomeType\").count()['AnimalID'])\n",
    "sns.countplot(df_train.OutcomeType, palette='Set3')\n",
    "plt.show()"
   ]
  },
  {
   "cell_type": "code",
   "execution_count": 128,
   "metadata": {
    "scrolled": true
   },
   "outputs": [
    {
     "name": "stdout",
     "output_type": "stream",
     "text": [
      "OutcomeType      AnimalType\n",
      "Adoption         Cat           4272\n",
      "                 Dog           6497\n",
      "Died             Cat            147\n",
      "                 Dog             50\n",
      "Euthanasia       Cat            710\n",
      "                 Dog            845\n",
      "Return_to_owner  Cat            500\n",
      "                 Dog           4286\n",
      "Transfer         Cat           5505\n",
      "                 Dog           3917\n",
      "dtype: int64\n"
     ]
    },
    {
     "data": {
      "image/png": "[encoded data removed]",
      "text/plain": [
       "<matplotlib.figure.Figure at 0x283bc3caf60>"
      ]
     },
     "metadata": {},
     "output_type": "display_data"
    }
   ],
   "source": [
    "# Dog의 경우  Return to Owner, Adoption이 많으나 고양이의 경우 Trasfer가 많음 \n",
    "print(df_train.groupby(['OutcomeType','AnimalType']).size())\n",
    "sns.countplot(data=df_train, x ='OutcomeType',hue='AnimalType',palette='Set3')\n",
    "plt.show()"
   ]
  },
  {
   "cell_type": "markdown",
   "metadata": {},
   "source": [
    "#### (2) AnimalType"
   ]
  },
  {
   "cell_type": "code",
   "execution_count": 129,
   "metadata": {},
   "outputs": [
    {
     "name": "stdout",
     "output_type": "stream",
     "text": [
      "AnimalType\n",
      "Cat    11134\n",
      "Dog    15595\n",
      "dtype: int64\n"
     ]
    },
    {
     "data": {
      "image/png": "[encoded data removed]",
      "text/plain": [
       "<matplotlib.figure.Figure at 0x283b64e4588>"
      ]
     },
     "metadata": {},
     "output_type": "display_data"
    }
   ],
   "source": [
    "print(df_train.groupby('AnimalType').size())\n",
    "sns.countplot(df_train.AnimalType, palette='Set3', hue = df_train['OutcomeType'])\n",
    "plt.show()"
   ]
  },
  {
   "cell_type": "markdown",
   "metadata": {},
   "source": [
    "#### (3) SexuponOutcome"
   ]
  },
  {
   "cell_type": "code",
   "execution_count": 116,
   "metadata": {
    "scrolled": true
   },
   "outputs": [
    {
     "name": "stdout",
     "output_type": "stream",
     "text": [
      "SexuponOutcome\n",
      "Neutered Male    9779\n",
      "Spayed Female    8820\n",
      "Intact Male      3525\n",
      "Intact Female    3511\n",
      "Unknown          1093\n",
      "dtype: int64\n"
     ]
    },
    {
     "data": {
      "image/png": "[encoded data removed]",
      "text/plain": [
       "<matplotlib.figure.Figure at 0x283bb927a20>"
      ]
     },
     "metadata": {},
     "output_type": "display_data"
    }
   ],
   "source": [
    "## Unknown : 1093건 \n",
    "print(df_train.groupby('SexuponOutcome').size().sort_values(ascending = False))\n",
    "sns.countplot(df_train.SexuponOutcome, palette='Set3')\n",
    "plt.show()"
   ]
  },
  {
   "cell_type": "code",
   "execution_count": 131,
   "metadata": {},
   "outputs": [
    {
     "name": "stdout",
     "output_type": "stream",
     "text": [
      "SexuponOutcome\n",
      "Neutered Male    9779\n",
      "Spayed Female    8820\n",
      "Intact Male      3525\n",
      "Intact Female    3511\n",
      "Unknown          1093\n",
      "dtype: int64\n"
     ]
    },
    {
     "data": {
      "image/png": "[encoded data removed]",
      "text/plain": [
       "<matplotlib.figure.Figure at 0x283bc5089b0>"
      ]
     },
     "metadata": {},
     "output_type": "display_data"
    }
   ],
   "source": [
    "print(df_train.groupby('SexuponOutcome').size().sort_values(ascending = False))\n",
    "sns.countplot(df_train.SexuponOutcome, palette='Set3')\n",
    "plt.show()"
   ]
  },
  {
   "cell_type": "code",
   "execution_count": 55,
   "metadata": {
    "scrolled": false
   },
   "outputs": [
    {
     "name": "stdout",
     "output_type": "stream",
     "text": [
      "SexuponOutcome  OutcomeType    \n",
      "Intact Female   Adoption            203\n",
      "                Died                 56\n",
      "                Euthanasia          401\n",
      "                Return_to_owner     301\n",
      "                Transfer           2550\n",
      "Intact Male     Adoption            158\n",
      "                Died                 79\n",
      "                Euthanasia          477\n",
      "                Return_to_owner     477\n",
      "                Transfer           2334\n",
      "Neutered Male   Adoption           5222\n",
      "                Died                 19\n",
      "                Euthanasia          344\n",
      "                Return_to_owner    2247\n",
      "                Transfer           1947\n",
      "Spayed Female   Adoption           5186\n",
      "                Died                 18\n",
      "                Euthanasia          232\n",
      "                Return_to_owner    1748\n",
      "                Transfer           1636\n",
      "Unknown         Died                 25\n",
      "                Euthanasia          101\n",
      "                Return_to_owner      12\n",
      "                Transfer            955\n",
      "dtype: int64\n"
     ]
    },
    {
     "data": {
      "image/png": "[encoded data removed]",
      "text/plain": [
       "<matplotlib.figure.Figure at 0x283b5d6b2e8>"
      ]
     },
     "metadata": {},
     "output_type": "display_data"
    }
   ],
   "source": [
    "## 중성화 되었을경우 Return to Owner, Adoption case가 많음 \n",
    "## 중성화가 안된경우 transfer 높음, 안락사도 1.5배 이상\n",
    "## Unknown 의 경우 transfer의 경우가 제일 높음 \n",
    "print(df_train.groupby(['SexuponOutcome','OutcomeType']).size())\n",
    "sns.countplot(x=df_train.SexuponOutcome,hue=df_train.OutcomeType, palette='Set3')\n",
    "plt.show()"
   ]
  },
  {
   "cell_type": "markdown",
   "metadata": {},
   "source": [
    "#### (4) AgeuponOutcome"
   ]
  },
  {
   "cell_type": "code",
   "execution_count": 96,
   "metadata": {
    "scrolled": true
   },
   "outputs": [
    {
     "data": {
      "image/png": "[encoded data removed]",
      "text/plain": [
       "<matplotlib.figure.Figure at 0x283bbbf5d30>"
      ]
     },
     "metadata": {},
     "output_type": "display_data"
    }
   ],
   "source": [
    "## Nan값:18 건, Unknown: 0건 , 0 years: 22 건 \n",
    "sns.countplot(y = df_train.AgeuponOutcome) ## Original Data\n",
    "plt.show()"
   ]
  },
  {
   "cell_type": "markdown",
   "metadata": {},
   "source": [
    "#### (5) Name"
   ]
  },
  {
   "cell_type": "code",
   "execution_count": 132,
   "metadata": {
    "collapsed": true
   },
   "outputs": [],
   "source": [
    "df_name = df_train['Name'].copy()\n",
    "df_name = df_name.replace(np.nan, 'Unknown')\n",
    "\n",
    "def Name(x):\n",
    "    if x.find('Unknown') == 0: return \"Without Name\"\n",
    "    return \"With Name\"\n",
    "\n",
    "df_name = df_name.apply(Name)"
   ]
  },
  {
   "cell_type": "code",
   "execution_count": 133,
   "metadata": {},
   "outputs": [
    {
     "data": {
      "image/png": "[encoded data removed]",
      "text/plain": [
       "<matplotlib.figure.Figure at 0x283bbcbc400>"
      ]
     },
     "metadata": {},
     "output_type": "display_data"
    }
   ],
   "source": [
    "sns.countplot(df_name, palette='Set3',hue = df_train['OutcomeType'] )\n",
    "plt.show()"
   ]
  },
  {
   "cell_type": "markdown",
   "metadata": {},
   "source": [
    "### 4. 데이터 전처리 및 모델링"
   ]
  },
  {
   "cell_type": "markdown",
   "metadata": {},
   "source": [
    "#### * 모델 평가 지표 : log_loss"
   ]
  },
  {
   "cell_type": "markdown",
   "metadata": {},
   "source": [
    "$$\n",
    "\\begin{eqnarray}\n",
    "\\text{logloss} \n",
    "&=& -\\dfrac{1}{N} \\sum_{i=1}^N \\sum_{j=1}^M y_{ij} \\log(p_{ij})\\\\\n",
    "\\end{eqnarray}\n",
    "$$"
   ]
  },
  {
   "cell_type": "markdown",
   "metadata": {
    "collapsed": true
   },
   "source": [
    "#### (1) 첫번째 모델"
   ]
  },
  {
   "cell_type": "markdown",
   "metadata": {},
   "source": [
    "![model1](./image/1.jpg)"
   ]
  },
  {
   "cell_type": "code",
   "execution_count": 7,
   "metadata": {
    "collapsed": true
   },
   "outputs": [],
   "source": [
    "class preprocessing1():\n",
    "    \n",
    "    def __init__(self,df_data):\n",
    "        self.df_data = df_data\n",
    "\n",
    "    # execution\n",
    "    def execution_pr(self):\n",
    "        #Name\n",
    "        self.df_data['Name']= self.df_data['Name'].fillna(0)\n",
    "        self.df_data['Name'] = self.df_data['Name'].apply(lambda x : 0 if x ==0 else 1)\n",
    "        \n",
    "        #AnimalType\n",
    "        self.df_data['AnimalType']= self.df_data['AnimalType'].apply(lambda x : 1 if x == 'Cat' else 0)\n",
    "        \n",
    "        \n",
    "        # AgeuponOutcome\n",
    "        self.df_data['AgeuponOutcome'].fillna(value = 'Unknown', inplace=True)\n",
    "        class_le = LabelEncoder()\n",
    "        self.df_data['AgeuponOutcome'] = class_le.fit_transform(self.df_data['AgeuponOutcome'].values)\n",
    "\n",
    "        # SexuponOutcome\n",
    "        self.df_data['SexuponOutcome'].fillna(value = 'Unknown', inplace=True)\n",
    "        class_le = LabelEncoder()\n",
    "        self.df_data['SexuponOutcome'] = class_le.fit_transform(self.df_data['SexuponOutcome'].values)\n",
    "        \n",
    "        #Breed\n",
    "        class_le = LabelEncoder()\n",
    "        self.df_data['Breed'] = class_le.fit_transform(self.df_data['Breed'].values)\n",
    "        \n",
    "        #Color\n",
    "        class_le = LabelEncoder()\n",
    "        self.df_data['Color'] = class_le.fit_transform(self.df_data['Color'].values)\n",
    "        \n",
    "        \n",
    "        return self.df_data"
   ]
  },
  {
   "cell_type": "code",
   "execution_count": 18,
   "metadata": {
    "collapsed": true
   },
   "outputs": [],
   "source": [
    "class modeling():\n",
    "    def __init__(self,x,y):\n",
    "        self.x = x\n",
    "        self.y = y\n",
    "        \n",
    "    def randomForest(self):\n",
    "        r_forest = RandomForestClassifier(n_estimators = 5, random_state = 0, n_jobs= -1)\n",
    "        r_forest.fit(self.x,self.y)\n",
    "        y_pred = r_forest.predict_proba(self.x)\n",
    "        #scores = log_loss(y, y_pred)\n",
    "        \n",
    "        rdfscore = cross_val_score(r_forest, self.x, self.y, scoring=\"neg_log_loss\", cv=KFold(20, shuffle=True)).mean()*-1\n",
    "        rdfstd   = cross_val_score(r_forest, self.x, self.y, scoring=\"neg_log_loss\"    , cv=KFold(20, shuffle=True)).std()\n",
    "        rdfaccur = cross_val_score(r_forest, self.x, self.y, scoring=\"accuracy\"    , cv=KFold(20, shuffle=True)).mean()\n",
    "        \n",
    "        \n",
    "        return rdfscore, rdfstd, rdfaccur\n",
    "\n",
    "    def xgboost(self):\n",
    "        cv = KFold(5, shuffle = True)\n",
    "        xgb = xgboost.XGBClassifier(n_estimators=130, max_depth=5)\n",
    "        xgscore = cross_val_score(xgb, self.x, self.y, scoring=\"neg_log_loss\", cv=cv)*-1\n",
    "        xgscore_mean = xgscore.mean()\n",
    "        xgscore_std  = xgscore.std()\n",
    "        xgaccur = cross_val_score(xgb, self.x, self.y, scoring=\"accuracy\", cv=cv).mean()\n",
    "        \n",
    "        return xgscore_mean,xgscore_std,xgaccur\n",
    "    \n",
    "    def gridSearch(self):\n",
    "        cv = KFold(5, shuffle = True)\n",
    "        est_range = [100, 110, 120, 130]\n",
    "        depth_range = [1,3,5,7,9]\n",
    "        param_grid = [{'n_estimators': est_range, 'max_depth': depth_range}]\n",
    "        gs = GridSearchCV(estimator=xgboost.XGBClassifier(objective=\"multi:softprob\"), param_grid=param_grid, scoring='neg_log_loss', cv=cv, n_jobs=-1)\n",
    "        gs = gs.fit(self.x, self.y)\n",
    "        gs_score = gs.best_score_ * -1\n",
    "        gs_parm  = gs.best_params_\n",
    "        return gs_score, gs_parm"
   ]
  },
  {
   "cell_type": "code",
   "execution_count": 8,
   "metadata": {
    "collapsed": true
   },
   "outputs": [],
   "source": [
    "# Preprocessing\n",
    "df_train1 = df_train.copy()\n",
    "df_test1 = df_test.copy()\n",
    "\n",
    "pr_train1 = preprocessing1(df_train1)\n",
    "df_train1 = pr_train1.execution_pr()\n",
    "pr_test1 = preprocessing1(df_test1)\n",
    "df_test1 = pr_test1.execution_pr()"
   ]
  },
  {
   "cell_type": "code",
   "execution_count": 9,
   "metadata": {
    "collapsed": true
   },
   "outputs": [],
   "source": [
    "# Feature selection\n",
    "col = ['AnimalType','Name','AgeuponOutcome','SexuponOutcome','Breed','Color']\n",
    "\n",
    "x = df_train1[col]\n",
    "y = df_train1['OutcomeType']"
   ]
  },
  {
   "cell_type": "code",
   "execution_count": 17,
   "metadata": {},
   "outputs": [
    {
     "name": "stdout",
     "output_type": "stream",
     "text": [
      "{'max_depth': 5, 'n_estimators': 130}\n",
      "[ RandomForest score ]\n",
      "Cross val score    :  5.58348559697\n",
      "Cross val std      :  0.236627382147\n",
      "Cross val accuracy :  0.578247254556 \n",
      "\n",
      "[ Xgboost score ]\n",
      "Cross val score    :  0.854921761118\n",
      "Cross val std      :  0.0062274144383\n",
      "Cross val accuracy :  0.645067072345 \n",
      "\n",
      "[ GridSearch score ]\n",
      "Cross val score    :  0.853666812281\n"
     ]
    }
   ],
   "source": [
    "# modeling\n",
    "model1 = modeling(x,y)\n",
    "rdf_score, rdf_std, rdf_accur  = model1.randomForest()\n",
    "xg_score, xg_std, xg_accur = model1.xgboost()\n",
    "grd_score, grd_param = model1.gridSearch()\n",
    "\n",
    "print('[ RandomForest score ]')\n",
    "print('Cross val score    : ', rdf_score)\n",
    "print('Cross val std      : ', rdf_std)\n",
    "print('Cross val accuracy : ', rdf_accur,'\\n')\n",
    "\n",
    "print('[ Xgboost score ]')\n",
    "print('Cross val score    : ', xg_score)\n",
    "print('Cross val std      : ', xg_std)\n",
    "print('Cross val accuracy : ', xg_accur,'\\n')   \n",
    "\n",
    "print('[ GridSearch score ]')\n",
    "print('Best params        : ', grd_param)\n",
    "print('Cross val score    : ', grd_score)"
   ]
  },
  {
   "cell_type": "markdown",
   "metadata": {},
   "source": [
    "#### (2) 두 번째 모델"
   ]
  },
  {
   "cell_type": "markdown",
   "metadata": {},
   "source": [
    "![model2](./image/2.jpg)"
   ]
  },
  {
   "cell_type": "code",
   "execution_count": 24,
   "metadata": {
    "collapsed": true
   },
   "outputs": [],
   "source": [
    "## Dog's type 총 10 category\n",
    "\n",
    "## 목양견, 양치기견\n",
    "Herding = ['Bearded Collie', 'Beauceron', 'Belgian Malinois','Malinois','Anatol','Anatol Shepherd',\n",
    "       'Belgian Sheepdog', 'Belgian Tervuren', 'Bergamasco','Kelpie/Pit','Kelpie/Finnish',\n",
    "       'Berger Picard', 'Shetland Sheepdog', 'Border Collie','Border Collie/Greyhound', 'Briard',\n",
    "       'Pyrenean Shepherd', 'Puli', 'Polish Lowland Sheepdog','Border','Collie/Rottweiler',\n",
    "       'Cardigan Welsh Corgi','Cardigan', 'Pembroke Welsh Corgi','Welsh','Corgi/Brittany','Border Collie/Rottweiler',\n",
    "       'Old English Sheepdog', 'Collie', 'Norwegian Buhund','Pointer/Collie Smooth','Pointer/Collie',\n",
    "       'Miniature American Shepherd', 'Entlebucher Mountain Dog','Belgian Malinois','Dutch','Dutch Shepherd'\n",
    "       'Finnish Lapphund', 'Gefrman Shepherd', 'Icelandic Sheepdog','Catahoula/Pit',\n",
    "       'Spanish Water Dog', 'Australian Shepherd Mix', 'Australian Shepherd','Bouvier des Flandres',\n",
    "       'Queensland Heeler','Heeler', 'Swedish Vallhund','Swedish Vallhund Mix','Vallhund', 'Australian Cattle Dog',\n",
    "        'Black Mouth Cur','Mouth','Catahoula', 'Anatolian Shepherd Dog',\n",
    "        'Collie','Sheepdog','Corgi','Mountain','Cattle','Water Dog']\n",
    "Australian_Shepherd = ['Australian Shepherd Mix','Australian Shepherd','Australian Shepherd/Anatol Shepherd']\n",
    "\n",
    "## 사냥견\n",
    "Hound = ['Greyhound','Basset', 'Hound','Saluki','Rhodesian Ridgeback','Redbone Coonhound','Treeing','Treeing Walker Coonhound',\n",
    "         'Treeing Walker Coonhound Mix','Beagle/Pointer','Beagle/Staffordshire','Portuguese Podengo Pequeno','Podengo Pequeno Mix',\n",
    "         'Podengo','Plott','Norwegian Elkhound','Pharaoh Hound','Petit Basset Griffon Vend_en','Pug/Beagle','Beagle/Pug',\n",
    "         'Afghan Hound','Otterhound','Whippet','Borzoi','English Foxhound','Irish Wolfhound','Wolfhound','Basenji','Basset Hound',\n",
    "         'Boxer/Beagle','Beagle','Beagle/Treeing','Harrier','Harrier/Catahoula','Sloughi','Ibizan Hound','American Foxhound','Foxhound',\n",
    "         'Rhod Ridgeback','Rhod ','Ridgeback','Rhod/Ridgeback','Black and Tan Coonhound','Beagle/Chihuahua','Pbgv','Boxer/Harrier',\n",
    "         'American English Coonhound','Coonhound','Bloodhound','Bluetick Coonhound','Scottish Deerhound','Plott Hound',\n",
    "         \"Cirneco dell'Etna\",'Pit Bull/Dogue De Bordeaux','Carolina','De','Bordeaux','Basenji/Chihuahua']\n",
    "\n",
    "## 실내견,가정견,애완견 Companian dogs\n",
    "Non_Sporting = ['Finnish','French Bulldog','Keeshond','Dalmatian','Dalmatian/Boxer','Sharpei','Chinese Sharpei','Chinese Sharpei Mix','Coton de Tulear',\n",
    " 'Lhasa Apso','Lhasa', 'Apso','Norwegian Lundehund','L_wchen','Xoloitzcuintli','Schipperke','Schipperke/Chihuahua','American Bulldog','Bulldog/Pointer',\n",
    " 'English Bulldog','Bichon Fris','Bichon Frise Mix','Bichon','Bulldog','Standard Poodle','Eskimo','Tibetan Spaniel','Bulldog/Chihuahua',\n",
    " 'Chinese Shar Pei','Miniature Poodle','Shiba Inu','Mexican Hairless Mix','Crested']\n",
    "## 스포츠견, 활동적, 야외활동\n",
    "Sporting = ['Greyhound/Dalmatian','Irish Red and White Setter','Irish Setter','Setter/Pit','Sussex Spaniel','Nova Scotia Duck Tolling Retriever','Irish Water Spaniel',\n",
    " 'Labrador Retriever','Retriever/Whippet','Labrador','Lagotto Romagnolo','Vizsla','Vizsla Mix','Vizsla/Boxer','Vizsla/Staffordshire',\n",
    " 'Vizsla/Rhod Ridgeback', 'Vizsla/Catahoula','Weimaraner','Pointer','Pointer/Catahoula','Catahoula/Pointer','Dachshund/Harrier','Canario',\n",
    " 'Welsh Springer Spaniel','Springer', 'Spaniel','WireDachshund/Chihuahuahaired Pointing Griffon','Dachshund/Catahoula','Dachshund/German','Landseer','Jindo',\n",
    " 'Wirehaired Vizsla','Spinone Italiano','Spinone','Spinone Italiano Mix','Gordon Setter','Brittany','Golden','Golden Retriever','Boykin','Boykin Span Mix','Boykin Spaniel','American Water Spaniel','American Eskimo Dog',\n",
    " 'English Cocker Spaniel','English Setter','English Setter Mix','Curly-Coated Retriever','Cocker Spaniel','Cocker','English Springer Spaniel','Field Spaniel','Shiba','Inu/Dachshund',\n",
    " 'Clumber Spaniel','Flat Coat','Flat','Flat Coated Retriever','Retriever','Chesapeake Bay Retriever','Chesa','Chow Chow','Chow','Bay','German Shorthaired Pointer',\n",
    " 'German Wirehaired Pointer','Cocker Spaniel/Dachshund','Spaniel/Dachshund','Dachshund','Dachshund/Pit','Dachshund/Beagle',\n",
    " 'Beagle/Dachshund','Dachshund/Chihuahua','Dachshund/Catahoula','Dachshund/Whippet','Wirehaired']\n",
    "## 테리어견종 - 사냥견중 작은 품종( 주로 오소리, 새등을 잡는 품종으로 개량됨)\n",
    "Terrier = ['Skye Terrier','Cesky Terrier','Norfolk Terrier','Dandie Dinmont Terrier','Border Terrier','Scottish Terrier','Terrier/Dachshund',\n",
    " 'Norwich Terrier','Parson Russell Terrier','Miniature Schnauzer','Rat Terrier','Sealyham Terrier','Russell Terrier','Terrier/Boxer','Tibetan Terrier',\n",
    " 'Bedlington Terrier','Smooth Fox Terrier','Bull Terrier (Miniature)','Staffordshire','Staffordshire/Labrador Retriever',\n",
    " 'Staffordshire/French Bulldog','Staffordshire/English Bulldog','Staffordshire/Boxer','Staffordshire/Beagle','Glen of Imaal Terrier','Imaal','Wire Fox Terrier','Boston Terrier',\n",
    " 'Bull Terrier','Highland','West Highland White Terrier','Irish Terrier','Welsh Terrier','Airedale Terrier','Staffordshire Bull Terrier',\n",
    " 'Kerry Blue Terrier','Cairn Terrier','American Hairless Terrier','Lakeland Terrier','American Staffordshire Terrier','Australian Terrier',\n",
    " 'Manchester Terrier','Soft-Coated Wheaten Terrier','Miniature Bull Terrier', 'Cairn Terrier/Chihuahua Shorthair','Terrier/Chihuahua','Cairn Terrier',\n",
    " 'Jack Russell Terrier Mix','Rat Terrier','Cairn','Russell','Rat','Terrier/Border','Norwich Terrier/Pug','Terrier/Pug','Terr','Feist']\n",
    "## 토이견 \n",
    "Toy = ['Toy','Poodle/Maltese','Toy Poodle/Maltese','Brussels Griffon','Pomeranian','Silky Terrier','American Eskimo Dog (Toy)',\n",
    "       'Toy Fox Terrier','Affenpinscher','Shih Tzu','Shih', 'Tzu','Whippet/Chihuahua Shorthair','Whippet/Chihuahua','Bruss Griffon Mix','Bruss',\n",
    "        'Pug','Pug/Chihuahua','Yorkshire Terrier','Toy Poodle','Miniature Pinscher','Japanese Chin','Chinese Crested Dog','Maltese','Pekingese',\n",
    "         'Italian Greyhound','English Toy Spaniel','Papillon','Chihuahua','Havanese','Cavalier King Charles Spaniel','Cavalier','Bull/Chihuahua',\n",
    "         'Miniature','Poodle','Yorkshire', 'Terrier','Norfolk','West Highland/Chihuahua Shorthair','Highland/Chihuahua',\n",
    "       'Papillon/Chihuahua Shorthair','Papillon/Chihuahua','Maltese/Yorkshire']\n",
    "## 비지니스 활동견\n",
    "Working = ['Giant Schnauzer','Australian Kelpie','Kelpie','Alaskan Malamute','Alaskan', 'Malamute',\n",
    "       'Greater Swiss Mountain Dog', 'Komondor', 'Kuvasz','Blue Lacy/Beagle','Lacy/Beagle',\n",
    "           'Blue Lacy','Lacy','Blue Lacy/Pit Bull','Lacy/Pit','Lacy/Collie','Boxer/Staffordshire',\n",
    "       'Tibetan Mastiff', 'Great Pyrenees','Great Pyrenees Mix','Pyrenees', 'Leonberger',\n",
    "       'Pinscher', 'Standard Schnauzer','Great Pyrenees/Anatol Shepherd','Pyrenees/Anatol',\n",
    "       'Mastiff', 'Bullmastiff', 'Canaan','Schnauzer','Cane Corso','Corso',\n",
    "        'St.','St. Bernard','St. Bernard Rough Coat Mix', 'Boxer', 'Samoyed',\n",
    "       'Doberman Pinscher', 'Boerboel', 'Bernese Mountain Dog', 'Chinook','Akita Mix','Akita',\n",
    "       'Siberian Husky','Husky','Siberian Husky/German Shepherd','Siberian','Husky/German', 'Newfoundland', 'Neapolitan Mastiff',\n",
    "       'Doberman Pinsch','Doberman', 'Pinsch', 'Portuguese Water Dog', 'Black Russian Terrier',\n",
    "       'Great Dane','Great','Dane','Dane/Staffordshire','Great Dane/Staffordshire']\n",
    "Unknown = ['Unknown','Unknown Mix','Nan','nan']\n",
    "## 맹견, 투사견 또는 fierce\n",
    "Fierce = ['Pit','Pit Bull','Pit Bull Mix','American Pit Bull Terrier Mix','American Pit Bull Terrier','Dogo Argentino','Pit Bull/Pit Bull',\n",
    "            'Pit Bull Terrier','Labrador Retriever/Pit Bull','Pit Bull/Rottweiler','Pit Bull/Chinese Sharpei','Bull/Chinese',\n",
    "            'Bull/Rottweiler','Rottweiler Mix','Rottweiler','Boxer/Pit Bull','Pit Bull/Boxer','Pit Bull/St. Bernard Smooth Coat',\n",
    "            'Dogo','Argentino','Dogo Argentino Mix','Dogo Argentino/Chinese Sharpei','kita/Pit Bull','Akita/Pit','Pit Bull/Weimaraner',\n",
    "            'American Pit Bull Terrier/Chinese Sharpei','Pit Bull/Mastiff','Mastiff/Pit Bull','Pit Bull/Catahoula','Canaan Dog/Pit Bull',\n",
    "         'American Pit Bull Terrier/Catahoula']\n",
    "## Guard 견 \n",
    "German_Shepherd = ['German Shepherd Mix','German Shepherd','German Shepherd/Akita','Shepherd/Australian',\n",
    "                   'German Shepherd/Rottweiler','German Shepherd/Pit Bull','German Shepherd/Catahoula','Rottweiler/German Shepherd',\n",
    "                   'German','Shepherd/Rottweiler','German Shepherd/Collie Rough','Beagle/German','German Shepherd/Boxer',\n",
    "                   'Beagle/German Shepherd','Boxer/German Shepherd','German Shepherd/Mastiff','German Shepherd/Collie Smooth']"
   ]
  },
  {
   "cell_type": "code",
   "execution_count": 104,
   "metadata": {
    "collapsed": true
   },
   "outputs": [],
   "source": [
    "## Cat's Type 9종류 분류 ( 위키피디아 기준)\n",
    "\n",
    "## 미국토종 고양이 (미국인들 선호, 대부분의 고양이가 여기에 포함), 쥐잡이용 고양이, 활동성 큼, 건강함 , 애교많음 , 질투많음\n",
    "## Domestic _short 의 경우 압도적으로 개체수가 많음 (9천건 이상), Mediumhair, Longhair는 각각 천마리 미만\n",
    "Domestic_Short= ['American Shorthair Mix','Domestic Shorthair Mix',\n",
    "            'Domestic Shorthair','Domestic Shorthair/Domestic Medium Hair']\n",
    "Domestic_Medium = ['Domestic Medium Hair Mix','Domestic Medium Hair' ]\n",
    "Domestic_Long = [ 'Domestic Longhair Mix','Domestic Longhair','Domestic Longhair/Rex']\n",
    "\n",
    "## 브리티쉬 고양이 ( 미국 토종고양이의 조상)\n",
    "British = ['British Shorthair Mix','Domestic Shorthair/British Shorthair','British Shorthair']\n",
    "## 시암고양이, 우아함, 특이한 색, 흰색& 회백색 얼굴 , 질투많음, 관심 보살핌 필요\n",
    "Siamese = ['Siamese Mix','Siamese','Siamese/Domestic Shorthair','Domestic Medium Hair/Siamese',\n",
    "           'Domestic Shorthair/Siamese' ,'Siamese/Japanese Bobtail']\n",
    "#스노우 슈: 여왕의 고양이, 온순하고 영리. 혼자 방치되는 것을 싫어함\n",
    "Snowshoe =['Snowshoe','Snowshoe Mix','Snowshoe/Ragdoll']\n",
    "##특이품종이지만 개채수 20마리 이상\n",
    "Russian_Blue = ['Russian Blue Mix','Russian Blue','Domestic Longhair/Russian Blue']\n",
    "Persian = ['Persian Mix','Persian','Domestic Longhair/Persian']\n",
    "Manx = ['Manx Mix','Manx','Manx/Domestic Longhair','Manx/Domestic Shorthair','Domestic Shorthair/Manx']\n",
    "Maine_Coon = ['Maine Coon Mix','Maine Coon']\n",
    "## 특이 품종 20 마리 미만\n",
    "Exotic = ['Abyssinian Mix','Himalayan Mix','Himalayan','Bengal Mix','Bengal','Ragdoll Mix','Angora Mix','Japanese Bobtail Mix',\n",
    "          'Bombay Mix','Balinese Mix','Tonkinese Mix','Pixiebob Shorthair Mix','Cymric Mix','Turkish Van Mix',\n",
    "          'Sphynx','Exotic Shorthair Mix','Javanese Mix','Cornish Rex Mix','Ragdoll','Burmese','Devon Rex Mix',\n",
    "          'Ocicat Mix','Devon Rex','Norwegian Forest Cat Mix','Munchkin Longhair Mix','Havana Brown Mix']"
   ]
  },
  {
   "cell_type": "code",
   "execution_count": 105,
   "metadata": {
    "collapsed": true
   },
   "outputs": [],
   "source": [
    "def BreedGroups(x):\n",
    "      \n",
    "    x =str(x)\n",
    "    if x: ## 개 3그룹으로 선분류 \n",
    "        if x in Unknown:\n",
    "            return 'Companion'  ##array([ 4967, 23667]) - Dogs, return to owner & Names exsist\n",
    "        elif x in Fierce:\n",
    "            return 'Fierce'\n",
    "        elif x in German_Shepherd:\n",
    "            return 'Working'\n",
    "        elif x in Australian_Shepherd:\n",
    "            return 'Herding'\n",
    "        \n",
    "        ## 고양이 그룹 분류: 9 종류 \n",
    "        elif x in Domestic_Short: ## Domestic Shorthair 의 개체수가 압도적으로 많음 9천건 이상\n",
    "            return 'Domestic'\n",
    "        elif x in Domestic_Medium:\n",
    "            return 'Domestic'\n",
    "        elif x in Domestic_Long:\n",
    "            return 'Domestic'\n",
    "            \n",
    "        elif x in British:\n",
    "            return 'Exotic'\n",
    "        elif x in Siamese:\n",
    "            return 'Exotic'\n",
    "        elif x in Snowshoe:\n",
    "            return 'Exotic'\n",
    "        elif x in Russian_Blue:\n",
    "            return 'Exotic'\n",
    "        elif x in Persian:\n",
    "            return 'Exotic'\n",
    "        elif x in Manx:\n",
    "            return 'Exotic'\n",
    "        elif x in Maine_Coon:\n",
    "            return 'Exotic'\n",
    "        elif x in Exotic:\n",
    "            return 'Exotic'\n",
    "        \n",
    "## 선분류 그룹에 속하지 않는 그룹: 개 7 종류 (목적 분류 세분화 )       \n",
    "        else: \n",
    "            x = x.split()\n",
    "            for i in x: \n",
    "                if i in Herding:\n",
    "                    return 'Herding'\n",
    "                elif i in Hound:\n",
    "                    return 'Hunting'\n",
    "                elif i in Non_Sporting:\n",
    "                    return 'Companion'\n",
    "                elif i in Sporting:\n",
    "                    return 'Sporting'\n",
    "                elif i in Terrier:\n",
    "                    return 'Hunting'\n",
    "                elif i in Toy:\n",
    "                    return 'Toy'\n",
    "                elif i in Working:\n",
    "                    return 'Working'\n",
    "                \n",
    "        return 'Sporting'"
   ]
  },
  {
   "cell_type": "code",
   "execution_count": 111,
   "metadata": {
    "collapsed": true
   },
   "outputs": [],
   "source": [
    "class preprocessing2():\n",
    "    \n",
    "    def __init__(self,df_data):\n",
    "        self.df_data = df_data\n",
    "\n",
    "    # execution\n",
    "    def execution_pr(self):\n",
    "        #Name\n",
    "        self.df_data['Name']= self.df_data['Name'].fillna(0)\n",
    "        self.df_data['Name'] = self.df_data['Name'].apply(lambda x : 0 if x ==0 else 1)\n",
    "        \n",
    "        #AnimalType\n",
    "        self.df_data['AnimalType']= self.df_data['AnimalType'].apply(lambda x : 1 if x == 'Cat' else 0)\n",
    "        \n",
    "        # AgeuponOutcome\n",
    "        self.df_data['AgeuponOutcome'].fillna(value = 'Unknown', inplace=True)\n",
    "        class_le = LabelEncoder()\n",
    "        self.df_data['AgeuponOutcome'] = class_le.fit_transform(self.df_data['AgeuponOutcome'].values)\n",
    "\n",
    "        # SexuponOutcome\n",
    "        self.df_data['SexuponOutcome'].fillna(value = 'Unknown', inplace=True)\n",
    "        class_le = LabelEncoder()\n",
    "        self.df_data['SexuponOutcome'] = class_le.fit_transform(self.df_data['SexuponOutcome'].values)\n",
    "\n",
    "        # Breed\n",
    "        self.df_data['Breed'] = self.df_data['Breed'].apply(BreedGroups)\n",
    "        self.df_data['BreedGroup'] = self.df_data['Breed']\n",
    "        \n",
    "        class_le = LabelEncoder()\n",
    "        self.df_data['Breed'] = class_le.fit_transform(self.df_data['Breed'].values)\n",
    "        \n",
    "        #Color\n",
    "        init_color1 = self.df_data['Color'].copy()\n",
    "        \n",
    "        def color(x):\n",
    "            if x.find(\"/\") >= 1 : return x.split(\"/\")[0]\n",
    "            if x.find(\" \") >= 1: return x.split(\" \")[0]\n",
    "            else: return x\n",
    "\n",
    "        def color1(x):\n",
    "            if x.find(\" \") >= 1: return x.split(\" \")[0]\n",
    "            else: return x\n",
    "\n",
    "        init_color1 = init_color1.apply(color)\n",
    "        init_color1 = init_color1.apply(color1)\n",
    "\n",
    "        def color_maj(x):\n",
    "            brown_color = [\"Brown\", \"Apricot\", \"Buff\", \"Chocolate\", \"Red\", \"Orange\", \"Ruddy\", \"Liver\" ]\n",
    "            lig_brown_color = [\"Fawn\", \"Gold\",  \"Tan\", \"Yellow\"]\n",
    "            rare_color = [\"Blue\", \"Tricolor\", \"Calico\", \"Sable\", \"Pink\", \"Torbie\", \"Tortie\", \"Agouti\"]\n",
    "            black_color = [\"Black\", \"Flame\", \"Seal\"]\n",
    "            white_color = [\"White\", \"Cream\", \"Lynx\"]\n",
    "            lig_black_color = [\"Gray\", \"Lilac\", \"Silver\"]\n",
    "\n",
    "            if x in brown_color: return \"Brown\"\n",
    "            if x in lig_brown_color: return \"Light Brown\"\n",
    "            if x in black_color: return \"Black\"\n",
    "            if x in lig_black_color: return \"Light Black\"\n",
    "            if x in white_color: return \"White\"\n",
    "            if x in rare_color: return \"Rare Color\"\n",
    "\n",
    "        init_color1 = init_color1.apply(color_maj)\n",
    "        y_color = init_color1\n",
    "        class_le = LabelEncoder()\n",
    "        init_color1= class_le.fit_transform(init_color1)\n",
    "        self.df_data['Color'] = init_color1\n",
    "        \n",
    "        return self.df_data, y_color"
   ]
  },
  {
   "cell_type": "code",
   "execution_count": 112,
   "metadata": {
    "collapsed": true
   },
   "outputs": [],
   "source": [
    "# Preprocessing\n",
    "df_train2 = df_train.copy()\n",
    "df_test2 = df_test.copy()\n",
    "\n",
    "pr_train2 = preprocessing2(df_train2)\n",
    "df_train2, y_color = pr_train2.execution_pr()\n",
    "pr_test2 = preprocessing2(df_test2)\n",
    "df_test2 = pr_test2.execution_pr()"
   ]
  },
  {
   "cell_type": "code",
   "execution_count": 114,
   "metadata": {},
   "outputs": [
    {
     "name": "stdout",
     "output_type": "stream",
     "text": [
      "BreedGroup\n",
      "Companion      401\n",
      "Domestic     10388\n",
      "Exotic         746\n",
      "Fierce        2367\n",
      "Herding       1904\n",
      "Hunting       1576\n",
      "Sporting      3459\n",
      "Toy           4097\n",
      "Working       1791\n",
      "dtype: int64\n"
     ]
    },
    {
     "data": {
      "image/png": "[encoded data removed]",
      "text/plain": [
       "<matplotlib.figure.Figure at 0x283bc65bd68>"
      ]
     },
     "metadata": {},
     "output_type": "display_data"
    }
   ],
   "source": [
    "print(df_train2.groupby('BreedGroup').size())\n",
    "sns.countplot(data =df_train2, y='BreedGroup')\n",
    "plt.show()"
   ]
  },
  {
   "cell_type": "code",
   "execution_count": 92,
   "metadata": {},
   "outputs": [
    {
     "data": {
      "image/png": "[encoded data removed]",
      "text/plain": [
       "<matplotlib.figure.Figure at 0x283bc638dd8>"
      ]
     },
     "metadata": {},
     "output_type": "display_data"
    }
   ],
   "source": [
    "sns.countplot(data=df_train2, y=y_color,hue='OutcomeType')\n",
    "plt.show()"
   ]
  },
  {
   "cell_type": "code",
   "execution_count": 29,
   "metadata": {
    "collapsed": true
   },
   "outputs": [],
   "source": [
    "# Feature selection\n",
    "col = ['AnimalType','Name','AgeuponOutcome','SexuponOutcome','Breed','Color']\n",
    "x = df_train2[col]\n",
    "y = df_train2['OutcomeType']"
   ]
  },
  {
   "cell_type": "code",
   "execution_count": 30,
   "metadata": {},
   "outputs": [
    {
     "name": "stdout",
     "output_type": "stream",
     "text": [
      "[ RandomForest score ]\n",
      "Cross val score    :  3.29083551791\n",
      "Cross val std      :  0.176555932325\n",
      "Cross val accuracy :  0.606531150489 \n",
      "\n",
      "[ Xgboost score ]\n",
      "Cross val score    :  0.851156634617\n",
      "Cross val std      :  0.00699728536067\n",
      "Cross val accuracy :  0.64820932185 \n",
      "\n",
      "[ GridSearch score ]\n",
      "Best params        :  {'max_depth': 5, 'n_estimators': 130}\n",
      "Cross val score    :  0.851199092507\n"
     ]
    }
   ],
   "source": [
    "# modeling\n",
    "model2 = modeling(x,y)\n",
    "rdf_score, rdf_std, rdf_accur  = model2.randomForest()\n",
    "xg_score, xg_std, xg_accur = model2.xgboost()\n",
    "grd_score, grd_param = model2.gridSearch()\n",
    "\n",
    "print('[ RandomForest score ]')\n",
    "print('Cross val score    : ', rdf_score)\n",
    "print('Cross val std      : ', rdf_std)\n",
    "print('Cross val accuracy : ', rdf_accur,'\\n')\n",
    "\n",
    "print('[ Xgboost score ]')\n",
    "print('Cross val score    : ', xg_score)\n",
    "print('Cross val std      : ', xg_std)\n",
    "print('Cross val accuracy : ', xg_accur,'\\n')   \n",
    "\n",
    "print('[ GridSearch score ]')\n",
    "print('Best params        : ', grd_param)\n",
    "print('Cross val score    : ', grd_score)\n"
   ]
  },
  {
   "cell_type": "markdown",
   "metadata": {},
   "source": [
    "#### (3) 세 번째 모델"
   ]
  },
  {
   "cell_type": "markdown",
   "metadata": {},
   "source": [
    "![model3](./image/3.jpg)"
   ]
  },
  {
   "cell_type": "code",
   "execution_count": 31,
   "metadata": {
    "collapsed": true
   },
   "outputs": [],
   "source": [
    "class preprocessing3():\n",
    "    \n",
    "    def __init__(self,df_data):\n",
    "        self.df_data = df_data\n",
    "\n",
    "    # execution\n",
    "    def execution_pr(self):\n",
    "        # AgeuponOutcome\n",
    "        self.df_data['AgeuponOutcome'].fillna(value=0, inplace = True)\n",
    "        \n",
    "        def age_by_year(x):\n",
    "            if x == 0: \n",
    "                return 0\n",
    "            else:\n",
    "                age = int(x.split(\" \")[0])\n",
    "                if x.find('year') >= 0: return age * 365\n",
    "                if x.find('month') >= 0: return age * 12\n",
    "                if x.find('week') >= 0: return age * 7\n",
    "                if x.find('day') >= 0: return age \n",
    "\n",
    "        self.df_data['AgeuponOutcome'] = self.df_data['AgeuponOutcome'].apply(age_by_year)\n",
    "        \n",
    "\n",
    "        # SexuponOutcome\n",
    "        self.df_data['SexuponOutcome'].fillna(value='Unknown', inplace=True)\n",
    "        le = LabelEncoder()\n",
    "        le.fit(self.df_data[\"SexuponOutcome\"])\n",
    "        self.df_data[\"SexuponOutcome\"] = le.transform(self.df_data[\"SexuponOutcome\"])\n",
    "        \n",
    "        #Name\n",
    "        self.df_data['Name']= self.df_data['Name'].fillna(0)\n",
    "        self.df_data['Name'] = self.df_data['Name'].apply(lambda x : 0 if x ==0 else 1)\n",
    "        \n",
    "        #Breed\n",
    "        self.df_data['Breed'] = self.df_data['Breed'].apply(lambda x: 1 if 'Bull' in x else 0)\n",
    "        \n",
    "        #AnimalType\n",
    "        self.df_data['AnimalType']= self.df_data['AnimalType'].apply(lambda x : 1 if x == 'Cat' else 0)\n",
    "        \n",
    "        return self.df_data"
   ]
  },
  {
   "cell_type": "code",
   "execution_count": 32,
   "metadata": {
    "collapsed": true,
    "scrolled": true
   },
   "outputs": [],
   "source": [
    "# Preprocessing\n",
    "df_train3 = df_train.copy()\n",
    "df_test3 = df_test.copy()\n",
    "\n",
    "pr_train3 = preprocessing3(df_train3)\n",
    "df_train3 = pr_train3.execution_pr()\n",
    "pr_test3 = preprocessing3(df_test3)\n",
    "df_test3  = pr_test3.execution_pr()"
   ]
  },
  {
   "cell_type": "code",
   "execution_count": 33,
   "metadata": {
    "collapsed": true
   },
   "outputs": [],
   "source": [
    "# Feature selection\n",
    "col = ['AnimalType','Name','AgeuponOutcome','SexuponOutcome','Breed']\n",
    "\n",
    "x = df_train3[col]\n",
    "y = df_train3['OutcomeType']"
   ]
  },
  {
   "cell_type": "code",
   "execution_count": 34,
   "metadata": {
    "scrolled": true
   },
   "outputs": [
    {
     "name": "stdout",
     "output_type": "stream",
     "text": [
      "[ RandomForest score ]\n",
      "Cross val score    :  1.299875801\n",
      "Cross val std      :  0.140822952615\n",
      "Cross val accuracy :  0.640239369802 \n",
      "\n",
      "[ Xgboost score ]\n",
      "Cross val score    :  0.843705655553\n",
      "Cross val std      :  0.00882781685813\n",
      "Cross val accuracy :  0.647686090717 \n",
      "\n",
      "[ GridSearch score ]\n",
      "Best params        :  {'max_depth': 5, 'n_estimators': 100}\n",
      "Cross val score    :  0.842370765332\n"
     ]
    }
   ],
   "source": [
    "model3 = modeling(x,y)\n",
    "rdf_score, rdf_std, rdf_accur  = model3.randomForest()\n",
    "xg_score, xg_std, xg_accur = model3.xgboost()\n",
    "grd_score, grd_param = model3.gridSearch()\n",
    "\n",
    "print('[ RandomForest score ]')\n",
    "print('Cross val score    : ', rdf_score)\n",
    "print('Cross val std      : ', rdf_std)\n",
    "print('Cross val accuracy : ', rdf_accur,'\\n')\n",
    "\n",
    "print('[ Xgboost score ]')\n",
    "print('Cross val score    : ', xg_score)\n",
    "print('Cross val std      : ', xg_std)\n",
    "print('Cross val accuracy : ', xg_accur,'\\n')  \n",
    "\n",
    "print('[ GridSearch score ]')\n",
    "print('Best params        : ', grd_param)\n",
    "print('Cross val score    : ', grd_score)"
   ]
  },
  {
   "cell_type": "markdown",
   "metadata": {},
   "source": [
    "### 5. 최종 모델"
   ]
  },
  {
   "cell_type": "markdown",
   "metadata": {},
   "source": [
    "* 변수 :  AnimalType, Name, AgeuponOutcome, SexuponOutcome, Breed"
   ]
  },
  {
   "cell_type": "code",
   "execution_count": 43,
   "metadata": {
    "collapsed": true
   },
   "outputs": [],
   "source": [
    "def xgboost_final(x,y):\n",
    "    cv = KFold(20, shuffle = True)\n",
    "    xgb = xgboost.XGBClassifier(n_estimators=100, max_depth=5)\n",
    "    xgscore = cross_val_score(xgb, x, y, scoring=\"neg_log_loss\", cv=cv)*-1\n",
    "    xgscore_mean = xgscore.mean()\n",
    "    xgscore_std  = xgscore.std()\n",
    "    xgaccur = cross_val_score(xgb, x, y, scoring=\"accuracy\", cv=cv).mean()\n",
    "\n",
    "    return xgscore_mean,xgscore_std,xgaccur"
   ]
  },
  {
   "cell_type": "code",
   "execution_count": 44,
   "metadata": {},
   "outputs": [
    {
     "name": "stdout",
     "output_type": "stream",
     "text": [
      "[ Xgboost score ]\n",
      "Cross val score    :  0.842271360308\n",
      "Cross val std      :  0.0252773114938\n",
      "Cross val accuracy :  0.649219306339 \n",
      "\n"
     ]
    }
   ],
   "source": [
    "xg_score, xg_std, xg_accur = xgboost_final(x,y)\n",
    "\n",
    "print('[ Xgboost score ]')\n",
    "print('Cross val score    : ', xg_score)\n",
    "print('Cross val std      : ', xg_std)\n",
    "print('Cross val accuracy : ', xg_accur,'\\n')  "
   ]
  },
  {
   "cell_type": "markdown",
   "metadata": {},
   "source": [
    "* Test score"
   ]
  },
  {
   "cell_type": "code",
   "execution_count": 37,
   "metadata": {
    "collapsed": true
   },
   "outputs": [],
   "source": [
    "col = ['AnimalType','Name','AgeuponOutcome','SexuponOutcome','Breed']\n",
    "\n",
    "test_x = df_test3[col]"
   ]
  },
  {
   "cell_type": "code",
   "execution_count": 38,
   "metadata": {
    "collapsed": true
   },
   "outputs": [],
   "source": [
    "xgb = xgboost.XGBClassifier(n_estimators=100, max_depth=5)\n",
    "xgb.fit(x,y)\n",
    "y_pred_loss = xgb.predict_proba(test_x)\n",
    "np.savetxt(\"y_pred_proba_2.csv\", y_pred_loss, delimiter=\",\")"
   ]
  },
  {
   "cell_type": "markdown",
   "metadata": {},
   "source": [
    "![score](./image/score.jpg)"
   ]
  },
  {
   "cell_type": "code",
   "execution_count": 125,
   "metadata": {},
   "outputs": [
    {
     "data": {
      "text/html": [
       "<div>\n",
       "<style>\n",
       "    .dataframe thead tr:only-child th {\n",
       "        text-align: right;\n",
       "    }\n",
       "\n",
       "    .dataframe thead th {\n",
       "        text-align: left;\n",
       "    }\n",
       "\n",
       "    .dataframe tbody tr th {\n",
       "        vertical-align: top;\n",
       "    }\n",
       "</style>\n",
       "<table border=\"1\" class=\"dataframe\">\n",
       "  <thead>\n",
       "    <tr style=\"text-align: right;\">\n",
       "      <th></th>\n",
       "      <th>ID</th>\n",
       "      <th>Adoption</th>\n",
       "      <th>Died</th>\n",
       "      <th>Euthanasia</th>\n",
       "      <th>Return_to_owner</th>\n",
       "      <th>Transfer</th>\n",
       "    </tr>\n",
       "  </thead>\n",
       "  <tbody>\n",
       "    <tr>\n",
       "      <th>11451</th>\n",
       "      <td>11452</td>\n",
       "      <td>0.92000</td>\n",
       "      <td>0.00208</td>\n",
       "      <td>0.0086</td>\n",
       "      <td>0.00842</td>\n",
       "      <td>0.0609</td>\n",
       "    </tr>\n",
       "    <tr>\n",
       "      <th>11452</th>\n",
       "      <td>11453</td>\n",
       "      <td>0.00238</td>\n",
       "      <td>0.01590</td>\n",
       "      <td>0.0189</td>\n",
       "      <td>0.00538</td>\n",
       "      <td>0.9570</td>\n",
       "    </tr>\n",
       "    <tr>\n",
       "      <th>11453</th>\n",
       "      <td>11454</td>\n",
       "      <td>0.00419</td>\n",
       "      <td>0.00786</td>\n",
       "      <td>0.0954</td>\n",
       "      <td>0.00681</td>\n",
       "      <td>0.8860</td>\n",
       "    </tr>\n",
       "    <tr>\n",
       "      <th>11454</th>\n",
       "      <td>11455</td>\n",
       "      <td>0.33500</td>\n",
       "      <td>0.00187</td>\n",
       "      <td>0.0365</td>\n",
       "      <td>0.45600</td>\n",
       "      <td>0.1700</td>\n",
       "    </tr>\n",
       "    <tr>\n",
       "      <th>11455</th>\n",
       "      <td>11456</td>\n",
       "      <td>0.04230</td>\n",
       "      <td>0.00391</td>\n",
       "      <td>0.1170</td>\n",
       "      <td>0.51500</td>\n",
       "      <td>0.3210</td>\n",
       "    </tr>\n",
       "  </tbody>\n",
       "</table>\n",
       "</div>"
      ],
      "text/plain": [
       "          ID  Adoption     Died  Euthanasia  Return_to_owner  Transfer\n",
       "11451  11452   0.92000  0.00208      0.0086          0.00842    0.0609\n",
       "11452  11453   0.00238  0.01590      0.0189          0.00538    0.9570\n",
       "11453  11454   0.00419  0.00786      0.0954          0.00681    0.8860\n",
       "11454  11455   0.33500  0.00187      0.0365          0.45600    0.1700\n",
       "11455  11456   0.04230  0.00391      0.1170          0.51500    0.3210"
      ]
     },
     "execution_count": 125,
     "metadata": {},
     "output_type": "execute_result"
    }
   ],
   "source": [
    "df_submit = pd.read_csv('data/sample_submission.csv')\n",
    "df_submit.tail()"
   ]
  },
  {
   "cell_type": "code",
   "execution_count": 126,
   "metadata": {
    "scrolled": true
   },
   "outputs": [
    {
     "name": "stdout",
     "output_type": "stream",
     "text": [
      "                 precision    recall  f1-score   support\n",
      "\n",
      "       Adoption       0.65      0.83      0.73     10769\n",
      "           Died       1.00      0.01      0.02       197\n",
      "     Euthanasia       0.66      0.18      0.28      1555\n",
      "Return_to_owner       0.47      0.50      0.48      4786\n",
      "       Transfer       0.77      0.62      0.69      9422\n",
      "\n",
      "    avg / total       0.66      0.65      0.64     26729\n",
      "\n"
     ]
    }
   ],
   "source": [
    "y_pred = xgb.predict(x)\n",
    "print(classification_report(y, y_pred, target_names=['Adoption', 'Died', 'Euthanasia', 'Return_to_owner', 'Transfer']))"
   ]
  }
 ],
 "metadata": {
  "kernelspec": {
   "display_name": "Python 3",
   "language": "python",
   "name": "python3"
  },
  "language_info": {
   "codemirror_mode": {
    "name": "ipython",
    "version": 3
   },
   "file_extension": ".py",
   "mimetype": "text/x-python",
   "name": "python",
   "nbconvert_exporter": "python",
   "pygments_lexer": "ipython3",
   "version": "3.6.1"
  }
 },
 "nbformat": 4,
 "nbformat_minor": 2
}
